{
 "cells": [
  {
   "cell_type": "code",
   "execution_count": null,
   "metadata": {},
   "outputs": [],
   "source": [
    "import numpy as np\n",
    "import cv2 as cv\n",
    "import matplotlib.pyplot as plt"
   ]
  },
  {
   "cell_type": "code",
   "execution_count": null,
   "metadata": {},
   "outputs": [],
   "source": [
    "def to_cv_image(image):\n",
    "    image = (image.transpose(1, 2, 0) * 255).astype(np.uint8)\n",
    "    return image\n",
    "\n",
    "def to_cv_kp(kp):\n",
    "    return list(map(lambda x: cv.KeyPoint(x[1], x[0], 0), kp))\n",
    "\n",
    "def draw_cv_kp(image, kp, color=(0, 255, 0)):\n",
    "    return cv.drawKeypoints(image, kp, None, color=color)\n",
    "\n",
    "\n",
    "def to_cv_dmatch(match_indices):\n",
    "    return list(map(lambda x: cv.DMatch(x[0], x[1], 0, 0), zip(np.arange(0, len(match_indices)), match_indices)))\n",
    "\n",
    "\n",
    "def draw_cv_matches(image1, image2, \n",
    "                    kp1, kp2,\n",
    "                    match_indices,\n",
    "                    match_mask=None, match_color=(0, 255, 0), single_point_color=(255, 0, 0)):\n",
    "    cv_match_indices = to_cv_dmatch(match_indices)\n",
    "    \n",
    "    if match_mask is not None:\n",
    "        flags = cv.DRAW_MATCHES_FLAGS_NOT_DRAW_SINGLE_POINTS\n",
    "        \n",
    "        match_mask = match_mask.tolist()\n",
    "        \n",
    "    else:\n",
    "        flags = None\n",
    "    \n",
    "    return cv.drawMatches(image1, kp1, image2, kp2, cv_match_indices, None, \n",
    "                          matchColor=match_color, \n",
    "                          singlePointColor=single_point_color,\n",
    "                          matchesMask=match_mask,\n",
    "                         flags=flags)\n"
   ]
  },
  {
   "cell_type": "code",
   "execution_count": null,
   "metadata": {},
   "outputs": [],
   "source": [
    "def plot_figures(figures, nrows=1, ncols=1, size=(18, 18)):\n",
    "    \"\"\"Plot a dictionary of figures.\n",
    "\n",
    "    Parameters\n",
    "    ----------\n",
    "    figures : <title, figure> dictionary\n",
    "    ncols : number of columns of subplots wanted in the display\n",
    "    nrows : number of rows of subplots wanted in the figure\n",
    "    \"\"\"\n",
    "\n",
    "    fig, axes_list = plt.subplots(ncols=ncols, nrows=nrows, figsize=size)\n",
    "    for ind, title in zip(range(len(figures)), figures):\n",
    "        if nrows * ncols != 1:\n",
    "            axes_list.ravel()[ind].imshow(figures[title], cmap='gray')\n",
    "            axes_list.ravel()[ind].set_title(title)\n",
    "            axes_list.ravel()[ind].set_axis_off()\n",
    "        else:\n",
    "            axes_list.imshow(figures[title], cmap='gray')\n",
    "            axes_list.set_title(title)\n",
    "            axes_list.set_axis_off()\n",
    "\n",
    "    plt.tight_layout()"
   ]
  },
  {
   "cell_type": "markdown",
   "metadata": {},
   "source": [
    "## Load the data and visualize them"
   ]
  },
  {
   "cell_type": "code",
   "execution_count": null,
   "metadata": {},
   "outputs": [],
   "source": [
    "seminar_data = np.load('seminar_data.npy', allow_pickle=True).item()\n",
    "\n",
    "image1 = to_cv_image(seminar_data['image1'][0])\n",
    "image2 = to_cv_image(seminar_data['image2'][0])\n",
    "\n",
    "kp1 = to_cv_kp(seminar_data['kp1'][0])\n",
    "kp2 = to_cv_kp(seminar_data['kp2'][0])\n",
    "\n",
    "kp1_desc = seminar_data['kp1_desc'][0]\n",
    "kp2_desc = seminar_data['kp2_desc'][0]\n"
   ]
  },
  {
   "cell_type": "code",
   "execution_count": null,
   "metadata": {},
   "outputs": [],
   "source": [
    "plot_figures({'image1': image1, 'image2': image2}, 1, 2)"
   ]
  },
  {
   "cell_type": "code",
   "execution_count": null,
   "metadata": {},
   "outputs": [],
   "source": [
    "plot_figures({'image1 keypoints': draw_cv_kp(image1, kp1), \n",
    "              'image2 keypoints': draw_cv_kp(image2, kp2)},\n",
    "             1, 2)"
   ]
  },
  {
   "cell_type": "markdown",
   "metadata": {},
   "source": [
    "## 1. NN matching"
   ]
  },
  {
   "cell_type": "markdown",
   "metadata": {},
   "source": [
    "For this task, you have keypoints and their corresponding descriptors. Descriptors are of size 64.\n",
    "\n",
    "For each descriptor $kp1\\_desc = d^1_i$ from the first image find the closest matching descriptor from $kp2\\_desc=d^2_j$ assuming that \n",
    "\n",
    "$$dist(d^1_{i}, d^2_{j})=||d^1_{i} - d^2_{j}||_2$$\n",
    "\n",
    "You need to provide the result in the form of vector $m^1$ where $m^1_i=j$."
   ]
  },
  {
   "cell_type": "code",
   "execution_count": null,
   "metadata": {},
   "outputs": [],
   "source": [
    "print(\"Shape of kp1_desc: \", kp1_desc.shape)\n",
    "print(\"Shape of kp2_desc: \", kp2_desc.shape)"
   ]
  },
  {
   "cell_type": "code",
   "execution_count": null,
   "metadata": {},
   "outputs": [],
   "source": [
    "# Calculate l2 distance for all possible pairs. The resulting matrix should be of size 1024 x 1024\n",
    "\n",
    "dist = "
   ]
  },
  {
   "cell_type": "code",
   "execution_count": null,
   "metadata": {},
   "outputs": [],
   "source": [
    "# Find closest matching descriptor from kp2_desc. The resulting vector should be of size 1024\n",
    "\n",
    "nn_idx1 = "
   ]
  },
  {
   "cell_type": "code",
   "execution_count": null,
   "metadata": {},
   "outputs": [],
   "source": [
    "plot_figures({'image1 to image2 matches': draw_cv_matches(image1, image2, \n",
    "                                                          kp1, kp2, \n",
    "                                                          nn_idx1)})"
   ]
  },
  {
   "cell_type": "markdown",
   "metadata": {},
   "source": [
    "## 2. Lowe ratio test"
   ]
  },
  {
   "cell_type": "markdown",
   "metadata": {},
   "source": [
    "Let $d^1_i$ be a descriptor from the first image, $d^2_j$ and $d^2_k$ be the first closest and the second closest descriptors for $d^1_i$ from the second image respectively. The match passes Lowe ratio test if $\\frac{dist(d^1_i, d^2_j)}{dist(d^1_i, d^2_k)} < r$ where $0 \\leq r \\leq 1$ is Lowe ratio.\n",
    "\n",
    "Assuming that $r = 0.95$ test each matching pair that you have found before and provide the result in the form of a binary mask where for each element of $nn\\_idx1$ there is $True$ if the match passes the test and $False$ otherwise."
   ]
  },
  {
   "cell_type": "code",
   "execution_count": null,
   "metadata": {},
   "outputs": [],
   "source": [
    "r = 0.95"
   ]
  },
  {
   "cell_type": "code",
   "execution_count": null,
   "metadata": {},
   "outputs": [],
   "source": [
    "ratio_test_mask1 = "
   ]
  },
  {
   "cell_type": "code",
   "execution_count": null,
   "metadata": {},
   "outputs": [],
   "source": [
    "plot_figures({'Filtered image1 to image2 matches': draw_cv_matches(image1, image2,\n",
    "                                                                   kp1, kp2,\n",
    "                                                                   nn_idx1,\n",
    "                                                                   ratio_test_mask1)})"
   ]
  },
  {
   "cell_type": "markdown",
   "metadata": {},
   "source": [
    "## 3. Mutual NN"
   ]
  },
  {
   "cell_type": "markdown",
   "metadata": {},
   "source": [
    "Now, perform the same procedure for the second set of descriptors $kp2\\_desc$: find correspondences $m^2$ and test them."
   ]
  },
  {
   "cell_type": "code",
   "execution_count": null,
   "metadata": {},
   "outputs": [],
   "source": [
    "# Find closest matching descriptor from kp1_desc. The resulting vector should be of size 1024\n",
    "\n",
    "nn_idx2 = "
   ]
  },
  {
   "cell_type": "code",
   "execution_count": null,
   "metadata": {},
   "outputs": [],
   "source": [
    "ratio_test_mask2 = "
   ]
  },
  {
   "cell_type": "code",
   "execution_count": null,
   "metadata": {},
   "outputs": [],
   "source": [
    "plot_figures({'Filtered image2 to image1 matches': draw_cv_matches(image2, image1,\n",
    "                                                                   kp2, kp1,\n",
    "                                                                   nn_idx2,\n",
    "                                                                   ratio_test_mask2)})"
   ]
  },
  {
   "cell_type": "markdown",
   "metadata": {},
   "source": [
    "Enforce mutuality between matching descriptors so that $m^1_i \\rightarrow j$ and $m^2_j \\rightarrow i$. Provide the result in the form of a binary mask where for each element of $nn\\_idx1$ there is $True$ if the match is mutual and $False$ otherwise. Next, ensure that mutually matched descriptors both pass the ratio test by combining previosly obtained binary masks."
   ]
  },
  {
   "cell_type": "code",
   "execution_count": null,
   "metadata": {},
   "outputs": [],
   "source": [
    "# Find mutual matches here\n",
    "\n",
    "mutual_mask = "
   ]
  },
  {
   "cell_type": "code",
   "execution_count": null,
   "metadata": {},
   "outputs": [],
   "source": [
    "# Combine mutual_mask and ratio test masks here from the perspective of nn_idx1\n",
    "\n",
    "match_mask = "
   ]
  },
  {
   "cell_type": "code",
   "execution_count": null,
   "metadata": {},
   "outputs": [],
   "source": [
    "plot_figures({'Mutual filtered matches': draw_cv_matches(image1, image2,\n",
    "                                                         kp1, kp2,\n",
    "                                                         nn_idx1,\n",
    "                                                         match_mask)})"
   ]
  },
  {
   "cell_type": "code",
   "execution_count": null,
   "metadata": {},
   "outputs": [],
   "source": []
  }
 ],
 "metadata": {
  "kernelspec": {
   "display_name": "Python 3",
   "language": "python",
   "name": "python3"
  },
  "language_info": {
   "codemirror_mode": {
    "name": "ipython",
    "version": 3
   },
   "file_extension": ".py",
   "mimetype": "text/x-python",
   "name": "python",
   "nbconvert_exporter": "python",
   "pygments_lexer": "ipython3",
   "version": "3.7.9"
  }
 },
 "nbformat": 4,
 "nbformat_minor": 4
}
